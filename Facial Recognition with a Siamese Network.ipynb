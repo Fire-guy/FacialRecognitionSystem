{
 "cells": [
  {
   "cell_type": "markdown",
   "id": "444e89f1",
   "metadata": {},
   "source": [
    "# Dependencies"
   ]
  },
  {
   "cell_type": "code",
   "execution_count": 1,
   "id": "02afdcd1",
   "metadata": {},
   "outputs": [
    {
     "name": "stdout",
     "output_type": "stream",
     "text": [
      "3.9.19 (main, Mar 21 2024, 17:21:27) [MSC v.1916 64 bit (AMD64)]\n"
     ]
    }
   ],
   "source": [
    "import sys\n",
    "print(sys.version)\n"
   ]
  },
  {
   "cell_type": "code",
   "execution_count": 2,
   "id": "11049d8c",
   "metadata": {},
   "outputs": [],
   "source": [
    "#import standard dependencies\n",
    "import cv2\n",
    "import os\n",
    "import random\n",
    "import numpy as np\n",
    "from matplotlib import pyplot as plt"
   ]
  },
  {
   "cell_type": "code",
   "execution_count": 3,
   "id": "8b2dc88e",
   "metadata": {},
   "outputs": [],
   "source": [
    "#import tensorflow dependencies - Functional API components\n",
    "import tensorflow as tf\n",
    "from tensorflow.keras.models import Model\n",
    "from tensorflow.keras.layers import Layer,Conv2D,Flatten,Dense,Input,MaxPooling2D"
   ]
  },
  {
   "cell_type": "code",
   "execution_count": 4,
   "id": "c26b6c1e",
   "metadata": {},
   "outputs": [
    {
     "name": "stdout",
     "output_type": "stream",
     "text": [
      "No GPU devices found\n"
     ]
    }
   ],
   "source": [
    "gpu_devices = tf.config.list_physical_devices('GPU')\n",
    "if gpu_devices:\n",
    "    print(\"Available GPU devices:\")\n",
    "    for gpu in gpu_devices:\n",
    "        print(gpu)\n",
    "else:\n",
    "    print(\"No GPU devices found\")\n"
   ]
  },
  {
   "cell_type": "markdown",
   "id": "5ec465f4",
   "metadata": {},
   "source": [
    "# Set GPU Growth"
   ]
  },
  {
   "cell_type": "code",
   "execution_count": 5,
   "id": "586bc1df",
   "metadata": {},
   "outputs": [],
   "source": [
    "#Avoid OOM errors by settings GPU Memory Consumption Growth\n",
    "gpus=tf.config.experimental.list_physical_devices('GPU')\n",
    "for gpu in gpus:\n",
    "    tf.config.experimental.set_memory_growth(gpu,True)"
   ]
  },
  {
   "cell_type": "code",
   "execution_count": 6,
   "id": "daa078ed",
   "metadata": {},
   "outputs": [
    {
     "data": {
      "text/plain": [
       "0"
      ]
     },
     "execution_count": 6,
     "metadata": {},
     "output_type": "execute_result"
    }
   ],
   "source": [
    "len(gpus)"
   ]
  },
  {
   "cell_type": "markdown",
   "id": "f93a33f2",
   "metadata": {},
   "source": [
    "# Checking the CUDA Installation"
   ]
  },
  {
   "cell_type": "code",
   "execution_count": 11,
   "id": "d93c55ca",
   "metadata": {},
   "outputs": [
    {
     "name": "stderr",
     "output_type": "stream",
     "text": [
      "WARNING: Retrying (Retry(total=4, connect=None, read=None, redirect=None, status=None)) after connection broken by 'ProxyError('Cannot connect to proxy.', OSError('Tunnel connection failed: 407 Proxy Authentication Required'))': /simple/tensorflow-gpu/\n",
      "WARNING: Retrying (Retry(total=3, connect=None, read=None, redirect=None, status=None)) after connection broken by 'ProxyError('Cannot connect to proxy.', OSError('Tunnel connection failed: 407 Proxy Authentication Required'))': /simple/tensorflow-gpu/\n",
      "WARNING: Retrying (Retry(total=2, connect=None, read=None, redirect=None, status=None)) after connection broken by 'ProxyError('Cannot connect to proxy.', OSError('Tunnel connection failed: 407 Proxy Authentication Required'))': /simple/tensorflow-gpu/\n",
      "WARNING: Retrying (Retry(total=1, connect=None, read=None, redirect=None, status=None)) after connection broken by 'ProxyError('Cannot connect to proxy.', OSError('Tunnel connection failed: 407 Proxy Authentication Required'))': /simple/tensorflow-gpu/\n",
      "WARNING: Retrying (Retry(total=0, connect=None, read=None, redirect=None, status=None)) after connection broken by 'ProxyError('Cannot connect to proxy.', OSError('Tunnel connection failed: 407 Proxy Authentication Required'))': /simple/tensorflow-gpu/\n",
      "ERROR: Could not find a version that satisfies the requirement tensorflow-gpu (from versions: none)\n",
      "ERROR: No matching distribution found for tensorflow-gpu\n"
     ]
    }
   ],
   "source": [
    "!pip install tensorflow-gpu\n"
   ]
  },
  {
   "cell_type": "code",
   "execution_count": null,
   "id": "51808549",
   "metadata": {},
   "outputs": [],
   "source": []
  },
  {
   "cell_type": "markdown",
   "id": "409fbee9",
   "metadata": {},
   "source": [
    "# Create Folder Structures"
   ]
  },
  {
   "cell_type": "code",
   "execution_count": 7,
   "id": "03c86c4b",
   "metadata": {},
   "outputs": [],
   "source": [
    "#defining the paths or selecting them\n",
    "POS_PATH=os.path.join('data','positive')\n",
    "NEG_PATH=os.path.join('data','negative')\n",
    "ANC_PATH=os.path.join('data','anchor')"
   ]
  },
  {
   "cell_type": "code",
   "execution_count": 55,
   "id": "cc827efb",
   "metadata": {},
   "outputs": [
    {
     "ename": "FileExistsError",
     "evalue": "[WinError 183] Cannot create a file when that file already exists: 'data\\\\positive'",
     "output_type": "error",
     "traceback": [
      "\u001b[1;31m---------------------------------------------------------------------------\u001b[0m",
      "\u001b[1;31mFileExistsError\u001b[0m                           Traceback (most recent call last)",
      "Cell \u001b[1;32mIn[55], line 2\u001b[0m\n\u001b[0;32m      1\u001b[0m \u001b[38;5;66;03m#Make Directories\u001b[39;00m\n\u001b[1;32m----> 2\u001b[0m \u001b[43mos\u001b[49m\u001b[38;5;241;43m.\u001b[39;49m\u001b[43mmakedirs\u001b[49m\u001b[43m(\u001b[49m\u001b[43mPOS_PATH\u001b[49m\u001b[43m)\u001b[49m\n\u001b[0;32m      3\u001b[0m os\u001b[38;5;241m.\u001b[39mmakedirs(NEG_PATH)\n\u001b[0;32m      4\u001b[0m os\u001b[38;5;241m.\u001b[39mmakedirs(ANC_PATH)\n",
      "File \u001b[1;32m~\\AppData\\Local\\Programs\\Python\\Python38\\lib\\os.py:223\u001b[0m, in \u001b[0;36mmakedirs\u001b[1;34m(name, mode, exist_ok)\u001b[0m\n\u001b[0;32m    221\u001b[0m         \u001b[38;5;28;01mreturn\u001b[39;00m\n\u001b[0;32m    222\u001b[0m \u001b[38;5;28;01mtry\u001b[39;00m:\n\u001b[1;32m--> 223\u001b[0m     \u001b[43mmkdir\u001b[49m\u001b[43m(\u001b[49m\u001b[43mname\u001b[49m\u001b[43m,\u001b[49m\u001b[43m \u001b[49m\u001b[43mmode\u001b[49m\u001b[43m)\u001b[49m\n\u001b[0;32m    224\u001b[0m \u001b[38;5;28;01mexcept\u001b[39;00m \u001b[38;5;167;01mOSError\u001b[39;00m:\n\u001b[0;32m    225\u001b[0m     \u001b[38;5;66;03m# Cannot rely on checking for EEXIST, since the operating system\u001b[39;00m\n\u001b[0;32m    226\u001b[0m     \u001b[38;5;66;03m# could give priority to other errors like EACCES or EROFS\u001b[39;00m\n\u001b[0;32m    227\u001b[0m     \u001b[38;5;28;01mif\u001b[39;00m \u001b[38;5;129;01mnot\u001b[39;00m exist_ok \u001b[38;5;129;01mor\u001b[39;00m \u001b[38;5;129;01mnot\u001b[39;00m path\u001b[38;5;241m.\u001b[39misdir(name):\n",
      "\u001b[1;31mFileExistsError\u001b[0m: [WinError 183] Cannot create a file when that file already exists: 'data\\\\positive'"
     ]
    }
   ],
   "source": [
    "#Make Directories\n",
    "os.makedirs(POS_PATH)\n",
    "os.makedirs(NEG_PATH)\n",
    "os.makedirs(ANC_PATH)"
   ]
  },
  {
   "cell_type": "markdown",
   "id": "8b8473b6",
   "metadata": {},
   "source": [
    "# Collect the positives and anchors\n"
   ]
  },
  {
   "cell_type": "code",
   "execution_count": 8,
   "id": "1b9f66c8",
   "metadata": {},
   "outputs": [],
   "source": [
    "#Mov lfw images to the following repository  data/negative\n",
    "for directory in os.listdir('lfw'):\n",
    "    for file in os.listdir(os.path.join('lfw',directory)):\n",
    "        EX_PATH=os.path.join('lfw',directory,file);\n",
    "        NEW_PATH=os.path.join(NEG_PATH,file)\n",
    "        os.replace(EX_PATH,NEW_PATH)"
   ]
  },
  {
   "cell_type": "markdown",
   "id": "c7753b43",
   "metadata": {},
   "source": [
    "# Collect Positive and Anchor Classes"
   ]
  },
  {
   "cell_type": "code",
   "execution_count": 9,
   "id": "84a3d0dc",
   "metadata": {},
   "outputs": [],
   "source": [
    "import uuid"
   ]
  },
  {
   "cell_type": "code",
   "execution_count": 10,
   "id": "c87111ca",
   "metadata": {},
   "outputs": [],
   "source": [
    "#Establish a connection with the webcam\n",
    "cap=cv2.VideoCapture(0)\n",
    "while cap.isOpened():\n",
    "    ret,frame=cap.read()\n",
    "    \n",
    "    #cut down the frame to 250x250\n",
    "    frame=frame[120:120+250,200:200+250, :]\n",
    "    \n",
    "#Show image back to screen\n",
    "    cv2.imshow('Image being captured',frame)\n",
    "    \n",
    "#Collecting the positives\n",
    "    if cv2.waitKey(1) & 0XFF==ord('p'):\n",
    "        #Creating a unique file path \n",
    "        imgname=os.path.join(POS_PATH,'{}.jpg'.format(uuid.uuid1()))\n",
    "        #Write out positives image\n",
    "        cv2.imwrite(imgname,frame)\n",
    "    \n",
    "#Collecting the anchors\n",
    "    if cv2.waitKey(1) & 0XFF==ord('a'):\n",
    "        #Creating a unique file path \n",
    "        imgname=os.path.join(ANC_PATH,'{}.jpg'.format(uuid.uuid1()))\n",
    "        #Write out anchor image\n",
    "        cv2.imwrite(imgname,frame)\n",
    "    \n",
    "    \n",
    "#Breaking gracefully\n",
    "    if cv2.waitKey(1) & 0XFF==ord('q'):\n",
    "          break                 \n",
    "\n",
    "#Release the webcam            \n",
    "cap.release()\n",
    "#Close Image Show frame\n",
    "cv2.destroyAllWindows()"
   ]
  },
  {
   "cell_type": "markdown",
   "id": "745c3f3e",
   "metadata": {},
   "source": [
    "# Load and Preprocess the Images"
   ]
  },
  {
   "cell_type": "markdown",
   "id": "90af37b8",
   "metadata": {},
   "source": [
    "## 3.1 Get Image Directories\n"
   ]
  },
  {
   "cell_type": "code",
   "execution_count": 22,
   "id": "64d4e633",
   "metadata": {},
   "outputs": [],
   "source": [
    "anchor=tf.data.Dataset.list_files(ANC_PATH+'\\*.jpg').take(200) # check what the performance suits like to the model \n",
    "positive=tf.data.Dataset.list_files(POS_PATH+'\\*.jpg').take(200)#takes the path of the dataset in POS_PATH directory and total count = 300\n",
    "negative=tf.data.Dataset.list_files(NEG_PATH+'\\*.jpg').take(200)"
   ]
  },
  {
   "cell_type": "code",
   "execution_count": 23,
   "id": "0df7738d",
   "metadata": {},
   "outputs": [
    {
     "name": "stdout",
     "output_type": "stream",
     "text": [
      "b'data\\\\anchor\\\\1f5ff3c2-f755-11ee-a103-6479f0d51122.jpg'\n"
     ]
    }
   ],
   "source": [
    "dir_test=anchor.as_numpy_iterator()\n",
    "print(dir_test.next())"
   ]
  },
  {
   "cell_type": "markdown",
   "id": "d1803b3f",
   "metadata": {},
   "source": [
    "## 3.3Preprocessing Scale and Resize "
   ]
  },
  {
   "cell_type": "code",
   "execution_count": 24,
   "id": "42a939bf",
   "metadata": {},
   "outputs": [],
   "source": [
    "def preprocess(filepath):\n",
    "    #Reads in the image from file path\n",
    "    byte_img=tf.io.read_file(filepath)\n",
    "    #laads the image\n",
    "    img=tf.io.decode_jpeg(byte_img)\n",
    "    #Preprocessing step- resizing the image in to 100x100x3\n",
    "    img=tf.image.resize(img,(105,105))\n",
    "    #Scale an image between 0 and 1 \n",
    "    img=img/255.0\n",
    "    return img"
   ]
  },
  {
   "cell_type": "code",
   "execution_count": 25,
   "id": "cc990871",
   "metadata": {},
   "outputs": [],
   "source": [
    "imager=preprocess('data\\\\anchor\\\\365f301d-f755-11ee-bdaf-6479f0d51122.jpg')"
   ]
  },
  {
   "cell_type": "code",
   "execution_count": 26,
   "id": "ec48d92a",
   "metadata": {},
   "outputs": [
    {
     "data": {
      "text/plain": [
       "1.0"
      ]
     },
     "execution_count": 26,
     "metadata": {},
     "output_type": "execute_result"
    }
   ],
   "source": [
    "imager.numpy().max()"
   ]
  },
  {
   "cell_type": "code",
   "execution_count": 27,
   "id": "54f4c156",
   "metadata": {},
   "outputs": [
    {
     "data": {
      "text/plain": [
       "<matplotlib.image.AxesImage at 0x1d305ce73a0>"
      ]
     },
     "execution_count": 27,
     "metadata": {},
     "output_type": "execute_result"
    },
    {
     "data": {
      "image/png": "[encoded data removed]",
      "text/plain": [
       "<Figure size 640x480 with 1 Axes>"
      ]
     },
     "metadata": {},
     "output_type": "display_data"
    }
   ],
   "source": [
    "plt.imshow(imager)"
   ]
  },
  {
   "cell_type": "code",
   "execution_count": null,
   "id": "e259c841",
   "metadata": {},
   "outputs": [],
   "source": []
  },
  {
   "cell_type": "markdown",
   "id": "e390722a",
   "metadata": {},
   "source": [
    "## 3.4 Create a labelled Dataset"
   ]
  },
  {
   "cell_type": "code",
   "execution_count": 28,
   "id": "94fefe7d",
   "metadata": {},
   "outputs": [],
   "source": [
    "#anchors,positive=1,1,1,1,1\n",
    "#anchors,negative=0,0,0,0,0"
   ]
  },
  {
   "cell_type": "code",
   "execution_count": 29,
   "id": "3b8ed3d3",
   "metadata": {},
   "outputs": [],
   "source": [
    "positives=tf.data.Dataset.zip((anchor,positive,tf.data.Dataset.from_tensor_slices(tf.ones(len(anchor)))))\n",
    "#This line combines the anchor, positive, and a dataset of ones into a single dataset using tf.data.Dataset.zip(). The ones are likely labels indicating positive examples. It's setting up the data in a format where each sample consists of an anchor image path, a positive image path, and the label (in this case, 1 for positive).\n",
    "negatives=tf.data.Dataset.zip((anchor,negative,tf.data.Dataset.from_tensor_slices(tf.zeros(len(anchor))))) # creates a seperate dataset for 0s\n",
    "data=positives.concatenate(negatives)"
   ]
  },
  {
   "cell_type": "code",
   "execution_count": 30,
   "id": "d4cb4e8f",
   "metadata": {},
   "outputs": [],
   "source": [
    "samples=data.as_numpy_iterator()\n",
    "examples=samples.next()"
   ]
  },
  {
   "cell_type": "code",
   "execution_count": 31,
   "id": "f4003ab8",
   "metadata": {},
   "outputs": [
    {
     "data": {
      "text/plain": [
       "(b'data\\\\anchor\\\\00b5ca02-f7cb-11ee-8191-6479f0d51122.jpg',\n",
       " b'data\\\\positive\\\\e8969c9b-f7cf-11ee-8816-6479f0d51122.jpg',\n",
       " 1.0)"
      ]
     },
     "execution_count": 31,
     "metadata": {},
     "output_type": "execute_result"
    }
   ],
   "source": [
    "examples"
   ]
  },
  {
   "cell_type": "markdown",
   "id": "7528a0cc",
   "metadata": {},
   "source": [
    "## 3.5 Build Train and Test Partitions"
   ]
  },
  {
   "cell_type": "code",
   "execution_count": 32,
   "id": "5c12b01e",
   "metadata": {},
   "outputs": [],
   "source": [
    "def preprocess_twin(input_img,validation_img,label):\n",
    "    return (preprocess(input_img),preprocess(validation_img),label)"
   ]
  },
  {
   "cell_type": "code",
   "execution_count": 33,
   "id": "ba001e24",
   "metadata": {},
   "outputs": [],
   "source": [
    "res=preprocess_twin(*examples) # *examples unpacks what is there in the examples variable"
   ]
  },
  {
   "cell_type": "code",
   "execution_count": 34,
   "id": "b70bba97",
   "metadata": {},
   "outputs": [
    {
     "data": {
      "text/plain": [
       "<matplotlib.image.AxesImage at 0x1d305e73550>"
      ]
     },
     "execution_count": 34,
     "metadata": {},
     "output_type": "execute_result"
    },
    {
     "data": {
      "image/png": "[encoded data removed]",
      "text/plain": [
       "<Figure size 640x480 with 1 Axes>"
      ]
     },
     "metadata": {},
     "output_type": "display_data"
    }
   ],
   "source": [
    "plt.imshow(res[1])"
   ]
  },
  {
   "cell_type": "code",
   "execution_count": 35,
   "id": "27175b96",
   "metadata": {},
   "outputs": [
    {
     "data": {
      "text/plain": [
       "1.0"
      ]
     },
     "execution_count": 35,
     "metadata": {},
     "output_type": "execute_result"
    }
   ],
   "source": [
    "res[2]"
   ]
  },
  {
   "cell_type": "code",
   "execution_count": 36,
   "id": "3e89c592",
   "metadata": {},
   "outputs": [],
   "source": [
    "#Build dataloader pipeline\n",
    "data=data.map(preprocess_twin)\n",
    "data=data.cache() #cachine for speed retrieval of the dataset, especially during large dataset\n",
    "data=data.shuffle(buffer_size=1024)"
   ]
  },
  {
   "cell_type": "code",
   "execution_count": 37,
   "id": "f7813f38",
   "metadata": {},
   "outputs": [],
   "source": [
    "#training partition\n",
    "train_data=data.take(round(len(data)*.7))\n",
    "train_data=train_data.batch(16)\n",
    "train_data=train_data.prefetch(8)\n",
    "#The 8 specifies the number of batches to prefetch. So, while the\n",
    "#model is processing one batch of data (which takes some time, especially on GPUs), \n",
    "#the data pipeline is already preparing the next 8 batches in the background. "
   ]
  },
  {
   "cell_type": "code",
   "execution_count": 38,
   "id": "478b71fb",
   "metadata": {},
   "outputs": [],
   "source": [
    "train_samples=train_data.as_numpy_iterator()"
   ]
  },
  {
   "cell_type": "code",
   "execution_count": 39,
   "id": "d79dc99c",
   "metadata": {},
   "outputs": [],
   "source": [
    "train_sample=train_samples.next()"
   ]
  },
  {
   "cell_type": "code",
   "execution_count": 40,
   "id": "cf30e5e7",
   "metadata": {},
   "outputs": [],
   "source": [
    "#testing partition\n",
    "test_data=data.skip(round(len(data)*.7))\n",
    "test_data=test_data.take(round(len(data)*.3))\n",
    "test_data=test_data.batch(16) "
   ]
  },
  {
   "cell_type": "markdown",
   "id": "22f4ede8",
   "metadata": {},
   "source": [
    "# Model Engineering"
   ]
  },
  {
   "cell_type": "markdown",
   "id": "456f801e",
   "metadata": {},
   "source": [
    "## 1.Build Embedding Layer"
   ]
  },
  {
   "cell_type": "markdown",
   "id": "8f2ffa84",
   "metadata": {},
   "source": [
    "## Testing and getting to know about layers "
   ]
  },
  {
   "cell_type": "code",
   "execution_count": 41,
   "id": "088b63aa",
   "metadata": {},
   "outputs": [
    {
     "data": {
      "text/plain": [
       "<KerasTensor: shape=(None, 105, 105, 3) dtype=float32 (created by layer 'input_image')>"
      ]
     },
     "execution_count": 41,
     "metadata": {},
     "output_type": "execute_result"
    }
   ],
   "source": [
    "inp=Input(shape=(105,105,3),name='input_image')\n",
    "inp #Maybe you can change to 100,100,3 later for the model testing"
   ]
  },
  {
   "cell_type": "code",
   "execution_count": 42,
   "id": "7623f7a2",
   "metadata": {},
   "outputs": [
    {
     "name": "stdout",
     "output_type": "stream",
     "text": [
      "KerasTensor(type_spec=TensorSpec(shape=(None, 96, 96, 64), dtype=tf.float32, name=None), name='conv2d/Relu:0', description=\"created by layer 'conv2d'\")\n",
      "KerasTensor(type_spec=TensorSpec(shape=(None, 48, 48, 64), dtype=tf.float32, name=None), name='max_pooling2d/MaxPool:0', description=\"created by layer 'max_pooling2d'\")\n"
     ]
    }
   ],
   "source": [
    "c1=Conv2D(64,(10,10),activation='relu')(inp)\n",
    "print(c1)\n",
    "m1=MaxPooling2D(64,(2,2),padding='same')(c1)\n",
    "print(m1)\n"
   ]
  },
  {
   "cell_type": "code",
   "execution_count": 43,
   "id": "345c0c41",
   "metadata": {},
   "outputs": [
    {
     "name": "stdout",
     "output_type": "stream",
     "text": [
      "KerasTensor(type_spec=TensorSpec(shape=(None, 42, 42, 128), dtype=tf.float32, name=None), name='conv2d_1/Relu:0', description=\"created by layer 'conv2d_1'\")\n",
      "KerasTensor(type_spec=TensorSpec(shape=(None, 21, 21, 128), dtype=tf.float32, name=None), name='max_pooling2d_1/MaxPool:0', description=\"created by layer 'max_pooling2d_1'\")\n"
     ]
    }
   ],
   "source": [
    "\n",
    "    #Second block\n",
    "    c2=Conv2D(128,(7,7),activation='relu')(m1)\n",
    "    print(c2)\n",
    "    m2=MaxPooling2D(64,(2,2),padding='same')(c2)\n",
    "    print(m2)\n",
    "    "
   ]
  },
  {
   "cell_type": "code",
   "execution_count": 44,
   "id": "70090da3",
   "metadata": {},
   "outputs": [
    {
     "name": "stdout",
     "output_type": "stream",
     "text": [
      "KerasTensor(type_spec=TensorSpec(shape=(None, 18, 18, 128), dtype=tf.float32, name=None), name='conv2d_2/Relu:0', description=\"created by layer 'conv2d_2'\")\n",
      "KerasTensor(type_spec=TensorSpec(shape=(None, 9, 9, 128), dtype=tf.float32, name=None), name='max_pooling2d_2/MaxPool:0', description=\"created by layer 'max_pooling2d_2'\")\n"
     ]
    }
   ],
   "source": [
    "    #Third block\n",
    "    c3=Conv2D(128,(4,4),activation='relu')(m2)\n",
    "    print(c3)\n",
    "    m3=MaxPooling2D(64,(2,2),padding='same')(c3)\n",
    "    print(m3)"
   ]
  },
  {
   "cell_type": "code",
   "execution_count": 45,
   "id": "7850ba3f",
   "metadata": {},
   "outputs": [
    {
     "name": "stdout",
     "output_type": "stream",
     "text": [
      "KerasTensor(type_spec=TensorSpec(shape=(None, 6, 6, 256), dtype=tf.float32, name=None), name='conv2d_3/Relu:0', description=\"created by layer 'conv2d_3'\")\n",
      "KerasTensor(type_spec=TensorSpec(shape=(None, 9216), dtype=tf.float32, name=None), name='flatten/Reshape:0', description=\"created by layer 'flatten'\")\n",
      "KerasTensor(type_spec=TensorSpec(shape=(None, 4096), dtype=tf.float32, name=None), name='dense/Sigmoid:0', description=\"created by layer 'dense'\")\n"
     ]
    }
   ],
   "source": [
    "     #Final Embedding Block\n",
    "c4=Conv2D(256,(4,4),activation='relu')(m3)\n",
    "print(c4)\n",
    "f1=Flatten()(c4)\n",
    "print(f1)\n",
    "d1=Dense(4096,activation='sigmoid')(f1)\n",
    "print(d1)"
   ]
  },
  {
   "cell_type": "code",
   "execution_count": 46,
   "id": "b5a152e3",
   "metadata": {},
   "outputs": [
    {
     "name": "stdout",
     "output_type": "stream",
     "text": [
      "Model: \"embedder\"\n",
      "_________________________________________________________________\n",
      " Layer (type)                Output Shape              Param #   \n",
      "=================================================================\n",
      " input_image (InputLayer)    [(None, 105, 105, 3)]     0         \n",
      "                                                                 \n",
      " conv2d (Conv2D)             (None, 96, 96, 64)        19264     \n",
      "                                                                 \n",
      " max_pooling2d (MaxPooling2D  (None, 48, 48, 64)       0         \n",
      " )                                                               \n",
      "                                                                 \n",
      " conv2d_1 (Conv2D)           (None, 42, 42, 128)       401536    \n",
      "                                                                 \n",
      " max_pooling2d_1 (MaxPooling  (None, 21, 21, 128)      0         \n",
      " 2D)                                                             \n",
      "                                                                 \n",
      " conv2d_2 (Conv2D)           (None, 18, 18, 128)       262272    \n",
      "                                                                 \n",
      " max_pooling2d_2 (MaxPooling  (None, 9, 9, 128)        0         \n",
      " 2D)                                                             \n",
      "                                                                 \n",
      " conv2d_3 (Conv2D)           (None, 6, 6, 256)         524544    \n",
      "                                                                 \n",
      " flatten (Flatten)           (None, 9216)              0         \n",
      "                                                                 \n",
      " dense (Dense)               (None, 4096)              37752832  \n",
      "                                                                 \n",
      "=================================================================\n",
      "Total params: 38,960,448\n",
      "Trainable params: 38,960,448\n",
      "Non-trainable params: 0\n",
      "_________________________________________________________________\n"
     ]
    }
   ],
   "source": [
    "mod=Model(inputs=[inp],outputs=[d1],name='embedder')\n",
    "mod.summary()"
   ]
  },
  {
   "cell_type": "code",
   "execution_count": 47,
   "id": "e65aef79",
   "metadata": {},
   "outputs": [],
   "source": [
    "def make_embedding():\n",
    "    inp=Input(shape=(105,105,3),name='input_image')\n",
    "    \n",
    "    #First block\n",
    "    c1=Conv2D(64,(10,10),activation='relu')(inp)\n",
    "    m1=MaxPooling2D(64,(2,2),padding='same')(c1)\n",
    "    \n",
    "    \n",
    "    #Second block\n",
    "    c2=Conv2D(128,(7,7),activation='relu')(m1)\n",
    "    m2=MaxPooling2D(64,(2,2),padding='same')(c2)\n",
    "    \n",
    "    #Third block\n",
    "    c3=Conv2D(128,(4,4),activation='relu')(m2)\n",
    "    m3=MaxPooling2D(64,(2,2),padding='same')(c3)\n",
    "    \n",
    "    #Final Embedding Block\n",
    "    c4=Conv2D(256,(4,4),activation='relu')(m3)\n",
    "    f1=Flatten()(c4)\n",
    "    d1=Dense(4096,activation='sigmoid')(f1)\n",
    "    \n",
    "    # I want the input layer to have 100x100 pixels and 3 channels\n",
    "    return Model(inputs=[inp],outputs=[d1],name='embedding')"
   ]
  },
  {
   "cell_type": "code",
   "execution_count": 48,
   "id": "6e5268d1",
   "metadata": {},
   "outputs": [
    {
     "name": "stdout",
     "output_type": "stream",
     "text": [
      "Model: \"embedding\"\n",
      "_________________________________________________________________\n",
      " Layer (type)                Output Shape              Param #   \n",
      "=================================================================\n",
      " input_image (InputLayer)    [(None, 105, 105, 3)]     0         \n",
      "                                                                 \n",
      " conv2d_4 (Conv2D)           (None, 96, 96, 64)        19264     \n",
      "                                                                 \n",
      " max_pooling2d_3 (MaxPooling  (None, 48, 48, 64)       0         \n",
      " 2D)                                                             \n",
      "                                                                 \n",
      " conv2d_5 (Conv2D)           (None, 42, 42, 128)       401536    \n",
      "                                                                 \n",
      " max_pooling2d_4 (MaxPooling  (None, 21, 21, 128)      0         \n",
      " 2D)                                                             \n",
      "                                                                 \n",
      " conv2d_6 (Conv2D)           (None, 18, 18, 128)       262272    \n",
      "                                                                 \n",
      " max_pooling2d_5 (MaxPooling  (None, 9, 9, 128)        0         \n",
      " 2D)                                                             \n",
      "                                                                 \n",
      " conv2d_7 (Conv2D)           (None, 6, 6, 256)         524544    \n",
      "                                                                 \n",
      " flatten_1 (Flatten)         (None, 9216)              0         \n",
      "                                                                 \n",
      " dense_1 (Dense)             (None, 4096)              37752832  \n",
      "                                                                 \n",
      "=================================================================\n",
      "Total params: 38,960,448\n",
      "Trainable params: 38,960,448\n",
      "Non-trainable params: 0\n",
      "_________________________________________________________________\n"
     ]
    }
   ],
   "source": [
    "embedding=make_embedding()\n",
    "embedding.summary()"
   ]
  },
  {
   "cell_type": "markdown",
   "id": "f7156050",
   "metadata": {},
   "source": [
    "## 2.Build Distance Layer "
   ]
  },
  {
   "cell_type": "code",
   "execution_count": 49,
   "id": "1df1e908",
   "metadata": {},
   "outputs": [],
   "source": [
    "#Siamese L1 Distance class\n",
    "class L1Dist(Layer):\n",
    "    #Init method-inheritance\n",
    "    def __init__(self,**kwargs):\n",
    "        super().__init__();\n",
    "        \n",
    "    #Magic happens here- similarity calculation\n",
    "    def call(self,input_embedding,validation_embedding):\n",
    "        return tf.math.abs(input_embedding-validation_embedding)"
   ]
  },
  {
   "cell_type": "code",
   "execution_count": 50,
   "id": "0904de4d",
   "metadata": {},
   "outputs": [],
   "source": [
    "input_image=Input(name=\"input_img\",shape=(105,105,3))\n",
    "validation_image=Input(name=\"validation_img\",shape=(105,105,3))\n"
   ]
  },
  {
   "cell_type": "code",
   "execution_count": 51,
   "id": "4c537918",
   "metadata": {},
   "outputs": [],
   "source": [
    "inp_embedding=embedding(input_image)\n",
    "val_embedding=embedding(validation_image)"
   ]
  },
  {
   "cell_type": "code",
   "execution_count": 52,
   "id": "fe886979",
   "metadata": {},
   "outputs": [
    {
     "data": {
      "text/plain": [
       "<KerasTensor: shape=(None, 4096) dtype=float32 (created by layer 'l1_dist')>"
      ]
     },
     "execution_count": 52,
     "metadata": {},
     "output_type": "execute_result"
    }
   ],
   "source": [
    "siamese_layer=L1Dist()\n",
    "siamese_layer(inp_embedding,val_embedding)"
   ]
  },
  {
   "cell_type": "markdown",
   "id": "e61eb22c",
   "metadata": {},
   "source": [
    "## 3.Make Siamese Model"
   ]
  },
  {
   "cell_type": "code",
   "execution_count": 53,
   "id": "e8ec8fe4",
   "metadata": {},
   "outputs": [],
   "source": [
    "def make_siamese_model():\n",
    "    #Handle Inputs\n",
    "    \n",
    "    #Anchor image input in the network\n",
    "    input_image=Input(name=\"input_img\",shape=(105,105,3))\n",
    "    \n",
    "    #Validation image in the network\n",
    "    validation_image=Input(name=\"validation_img\",shape=(105,105,3))\n",
    "    \n",
    "    #Combine the Siamese Distance components\n",
    "    siamese_layer=L1Dist()\n",
    "    siamese_layer._name=\"distance\"\n",
    "    distances=siamese_layer(embedding(input_image),embedding(validation_image))\n",
    "    \n",
    "    #Classification Layer\n",
    "    classifier=Dense(1,activation='sigmoid')(distances)\n",
    "    \n",
    "    return Model(inputs=[input_image,validation_image],outputs=classifier,name='SiameseNetwork')"
   ]
  },
  {
   "cell_type": "code",
   "execution_count": 54,
   "id": "b65987d7",
   "metadata": {},
   "outputs": [
    {
     "name": "stdout",
     "output_type": "stream",
     "text": [
      "Model: \"SiameseNetwork\"\n",
      "__________________________________________________________________________________________________\n",
      " Layer (type)                   Output Shape         Param #     Connected to                     \n",
      "==================================================================================================\n",
      " input_img (InputLayer)         [(None, 105, 105, 3  0           []                               \n",
      "                                )]                                                                \n",
      "                                                                                                  \n",
      " validation_img (InputLayer)    [(None, 105, 105, 3  0           []                               \n",
      "                                )]                                                                \n",
      "                                                                                                  \n",
      " embedding (Functional)         (None, 4096)         38960448    ['input_img[0][0]',              \n",
      "                                                                  'validation_img[0][0]']         \n",
      "                                                                                                  \n",
      " distance (L1Dist)              (None, 4096)         0           ['embedding[2][0]',              \n",
      "                                                                  'embedding[3][0]']              \n",
      "                                                                                                  \n",
      " dense_2 (Dense)                (None, 1)            4097        ['distance[0][0]']               \n",
      "                                                                                                  \n",
      "==================================================================================================\n",
      "Total params: 38,964,545\n",
      "Trainable params: 38,964,545\n",
      "Non-trainable params: 0\n",
      "__________________________________________________________________________________________________\n"
     ]
    }
   ],
   "source": [
    "siamese_network=make_siamese_model()\n",
    "siamese_network.summary()"
   ]
  },
  {
   "cell_type": "markdown",
   "id": "6df15823",
   "metadata": {},
   "source": [
    "# Training"
   ]
  },
  {
   "cell_type": "code",
   "execution_count": null,
   "id": "85b89069",
   "metadata": {},
   "outputs": [],
   "source": []
  },
  {
   "cell_type": "markdown",
   "id": "bf1ac320",
   "metadata": {},
   "source": [
    "## 1. Setup Loss and Optimizer"
   ]
  },
  {
   "cell_type": "code",
   "execution_count": 55,
   "id": "8d368c2a",
   "metadata": {},
   "outputs": [],
   "source": [
    "binary_cross_entropy=tf.losses.BinaryCrossentropy()"
   ]
  },
  {
   "cell_type": "code",
   "execution_count": 56,
   "id": "7cb2c2b2",
   "metadata": {},
   "outputs": [],
   "source": [
    "op=tf.keras.optimizers.Adam(1e-4)#0.0001"
   ]
  },
  {
   "cell_type": "markdown",
   "id": "292271c7",
   "metadata": {},
   "source": [
    "## 2. Establish Checkpoints"
   ]
  },
  {
   "cell_type": "code",
   "execution_count": 57,
   "id": "47f5c118",
   "metadata": {},
   "outputs": [],
   "source": [
    "checkpoints_dir='./training_checkpoints'\n",
    "checkpoints_prefix=os.path.join(checkpoints_dir,'ckpt')\n",
    "checkpoint=tf.train.Checkpoint(op=op,siamese_network=siamese_network) # allows to save and restore the state of model during training and inference"
   ]
  },
  {
   "cell_type": "markdown",
   "id": "11f5f85b",
   "metadata": {},
   "source": [
    "## 3. Build Train Step Function"
   ]
  },
  {
   "cell_type": "code",
   "execution_count": 58,
   "id": "c7552b44",
   "metadata": {},
   "outputs": [],
   "source": [
    "tester=train_data.as_numpy_iterator()\n",
    "batch_1=tester.next()\n",
    "X=batch_1[:2]\n",
    "Y=batch_1[2]\n"
   ]
  },
  {
   "cell_type": "code",
   "execution_count": 59,
   "id": "d39636b3",
   "metadata": {},
   "outputs": [
    {
     "data": {
      "text/plain": [
       "array([0., 0., 0., 0., 0., 0., 1., 0., 0., 0., 0., 0., 0., 0., 0., 0.],\n",
       "      dtype=float32)"
      ]
     },
     "execution_count": 59,
     "metadata": {},
     "output_type": "execute_result"
    }
   ],
   "source": [
    "Y"
   ]
  },
  {
   "cell_type": "code",
   "execution_count": 60,
   "id": "44bd2610",
   "metadata": {},
   "outputs": [],
   "source": [
    "@tf.function\n",
    "def train_step(batch):\n",
    "    with tf.GradientTape() as tape:\n",
    "       #Get anchor and positive/negative image\n",
    "        X=batch[:2]\n",
    "        #Get Label\n",
    "        Y=batch[2]\n",
    "        \n",
    "        #Forward pass\n",
    "        yhat=siamese_network(X,training=True)\n",
    "        #Calculate the loss\n",
    "        loss=binary_cross_entropy(Y,yhat)\n",
    "    print(loss)    \n",
    "        \n",
    "    #Calculate gradient\n",
    "    grad=tape.gradient(loss,siamese_network.trainable_variables)\n",
    "    \n",
    "    #Calculate the updated weights and apply to siamese model\n",
    "    op.apply_gradients(zip(grad,siamese_network.trainable_variables))\n",
    "        \n",
    "    #return loss    \n",
    "    return loss"
   ]
  },
  {
   "cell_type": "markdown",
   "id": "b4df8236",
   "metadata": {},
   "source": [
    "## 4. Build a Training Loop"
   ]
  },
  {
   "cell_type": "code",
   "execution_count": 61,
   "id": "3dfc3364",
   "metadata": {},
   "outputs": [],
   "source": [
    "def train(data,EPOCHS):\n",
    "    # Loop through the EPOCHS\n",
    "    for epoch in range(1,EPOCHS+1):\n",
    "        print('\\n Epoch {}/{}'.format(epoch,EPOCHS))\n",
    "        progbar=tf.keras.utils.Progbar(len(data))\n",
    "    \n",
    "        # Loop through each batch\n",
    "        for idx, batch in enumerate(data):\n",
    "            #Run train step here\n",
    "            train_step(batch)\n",
    "            progbar.update(idx+1)\n",
    "            \n",
    "        #Save checkpoints \n",
    "        if epoch%10==0:\n",
    "            checkpoint.save(file_prefix=checkpoint_prefix)\n",
    "    "
   ]
  },
  {
   "cell_type": "markdown",
   "id": "c4e9eca0",
   "metadata": {},
   "source": [
    "## Train the model "
   ]
  },
  {
   "cell_type": "code",
   "execution_count": 62,
   "id": "3174079d",
   "metadata": {},
   "outputs": [],
   "source": [
    "EPOCHS=5"
   ]
  },
  {
   "cell_type": "code",
   "execution_count": null,
   "id": "78f581ea",
   "metadata": {},
   "outputs": [],
   "source": []
  },
  {
   "cell_type": "code",
   "execution_count": 51,
   "id": "f631773d",
   "metadata": {},
   "outputs": [
    {
     "name": "stdout",
     "output_type": "stream",
     "text": [
      "GPU available []\n"
     ]
    }
   ],
   "source": [
    "print('GPU available',tf.config.list_physical_devices('GPU'))"
   ]
  },
  {
   "cell_type": "markdown",
   "id": "5a21b4e4",
   "metadata": {},
   "source": [
    "# Evaluate Model"
   ]
  },
  {
   "cell_type": "code",
   "execution_count": 63,
   "id": "755b76a5",
   "metadata": {},
   "outputs": [],
   "source": [
    "#Import metric calculation\n",
    "from tensorflow.keras.metrics  import Precision, Recall"
   ]
  },
  {
   "cell_type": "code",
   "execution_count": 64,
   "id": "bb4d0969",
   "metadata": {},
   "outputs": [],
   "source": [
    "#Get a batch of test data\n",
    "test_input, test_val, y_true=test_data.as_numpy_iterator().next()"
   ]
  },
  {
   "cell_type": "code",
   "execution_count": 65,
   "id": "2e99e43d",
   "metadata": {},
   "outputs": [],
   "source": [
    "test_var=test_data.as_numpy_iterator().next()"
   ]
  },
  {
   "cell_type": "code",
   "execution_count": 66,
   "id": "2a93bba5",
   "metadata": {},
   "outputs": [
    {
     "name": "stdout",
     "output_type": "stream",
     "text": [
      "True\n"
     ]
    }
   ],
   "source": [
    "print(tf.test.is_built_with_cuda())"
   ]
  },
  {
   "cell_type": "code",
   "execution_count": null,
   "id": "8dfdd516",
   "metadata": {},
   "outputs": [],
   "source": []
  },
  {
   "cell_type": "markdown",
   "id": "95ecca5e",
   "metadata": {},
   "source": [
    "# Save Model"
   ]
  },
  {
   "cell_type": "code",
   "execution_count": 67,
   "id": "003a4896",
   "metadata": {},
   "outputs": [
    {
     "name": "stdout",
     "output_type": "stream",
     "text": [
      "WARNING:tensorflow:No training configuration found in the save file, so the model was *not* compiled. Compile it manually.\n"
     ]
    }
   ],
   "source": [
    "model=tf.keras.models.load_model('siamesemodel.h5',custom_objects={'L1Dist':L1Dist,'BinaryCrossentropy':tf.losses.BinaryCrossentropy})"
   ]
  },
  {
   "cell_type": "markdown",
   "id": "6bd57c10",
   "metadata": {},
   "source": [
    "# Real Time Test"
   ]
  },
  {
   "cell_type": "markdown",
   "id": "d1b8249d",
   "metadata": {},
   "source": [
    "## Verification Function"
   ]
  },
  {
   "cell_type": "code",
   "execution_count": 69,
   "id": "7db779c8",
   "metadata": {},
   "outputs": [
    {
     "data": {
      "image/png": "[encoded data removed]",
      "text/plain": [
       "<Figure size 640x480 with 1 Axes>"
      ]
     },
     "metadata": {},
     "output_type": "display_data"
    }
   ],
   "source": [
    "for image in os.listdir(os.path.join('application_data','verification_images')):\n",
    "        validation_img=preprocess(os.path.join('application_data','verification_images',image))\n",
    "        plt.imshow(validation_img)"
   ]
  },
  {
   "cell_type": "code",
   "execution_count": 70,
   "id": "280c2911",
   "metadata": {},
   "outputs": [],
   "source": [
    "def verify(model, detection_threshold, verification_threshold):\n",
    "    #Build results array\n",
    "    results=[]\n",
    "    for image in os.listdir(os.path.join('application_data','verification_images')):\n",
    "        input_img=preprocess(os.path.join('application_data','input_image','input_image.jpg'))\n",
    "        validation_img=preprocess(os.path.join('application_data','verification_images',image))\n",
    "        #Make prediction\n",
    "        result=model.predict(list(np.expand_dims([input_img,validation_img],axis=1)))\n",
    "        results.append(result)\n",
    "\n",
    "#Detection threshold:Metric above which a prediction is considered positive        \n",
    "    detection=np.sum(np.array(results)>detection_threshold)\n",
    "#Verification threshold: proportion of positive prediction / total positive samples\n",
    "    verification=detection/len(os.listdir(os.path.join('application_data','verification_images')))\n",
    "    verified=verification>verification_threshold\n",
    "    \n",
    "    return results,verified\n",
    "    \n"
   ]
  },
  {
   "cell_type": "markdown",
   "id": "f493af29",
   "metadata": {},
   "source": [
    "## OpenCV Real time Verification"
   ]
  },
  {
   "cell_type": "code",
   "execution_count": 131,
   "id": "36c5162f",
   "metadata": {
    "scrolled": false
   },
   "outputs": [
    {
     "name": "stdout",
     "output_type": "stream",
     "text": [
      "1/1 [==============================] - 0s 189ms/step\n",
      "1/1 [==============================] - 0s 201ms/step\n",
      "1/1 [==============================] - 0s 199ms/step\n",
      "1/1 [==============================] - 0s 205ms/step\n",
      "1/1 [==============================] - 0s 201ms/step\n",
      "1/1 [==============================] - 0s 192ms/step\n",
      "1/1 [==============================] - 0s 194ms/step\n",
      "1/1 [==============================] - 0s 200ms/step\n",
      "1/1 [==============================] - 0s 191ms/step\n",
      "1/1 [==============================] - 0s 194ms/step\n",
      "1/1 [==============================] - 0s 197ms/step\n",
      "1/1 [==============================] - 0s 206ms/step\n",
      "1/1 [==============================] - 0s 217ms/step\n",
      "1/1 [==============================] - 0s 206ms/step\n",
      "1/1 [==============================] - 0s 192ms/step\n",
      "1/1 [==============================] - 0s 224ms/step\n",
      "1/1 [==============================] - 0s 221ms/step\n",
      "1/1 [==============================] - 0s 220ms/step\n",
      "1/1 [==============================] - 0s 216ms/step\n",
      "1/1 [==============================] - 0s 202ms/step\n",
      "1/1 [==============================] - 0s 215ms/step\n",
      "1/1 [==============================] - 0s 216ms/step\n",
      "1/1 [==============================] - 0s 201ms/step\n",
      "1/1 [==============================] - 0s 208ms/step\n",
      "1/1 [==============================] - 0s 210ms/step\n",
      "1/1 [==============================] - 0s 224ms/step\n",
      "1/1 [==============================] - 0s 207ms/step\n",
      "1/1 [==============================] - 0s 201ms/step\n",
      "1/1 [==============================] - 0s 205ms/step\n",
      "1/1 [==============================] - 0s 228ms/step\n",
      "1/1 [==============================] - 0s 217ms/step\n",
      "1/1 [==============================] - 0s 224ms/step\n",
      "1/1 [==============================] - 0s 223ms/step\n",
      "1/1 [==============================] - 0s 222ms/step\n",
      "1/1 [==============================] - 0s 201ms/step\n",
      "1/1 [==============================] - 0s 209ms/step\n",
      "1/1 [==============================] - 0s 220ms/step\n",
      "1/1 [==============================] - 0s 216ms/step\n",
      "1/1 [==============================] - 0s 221ms/step\n",
      "1/1 [==============================] - 0s 221ms/step\n",
      "1/1 [==============================] - 0s 222ms/step\n",
      "1/1 [==============================] - 0s 265ms/step\n",
      "1/1 [==============================] - 0s 200ms/step\n",
      "1/1 [==============================] - 0s 224ms/step\n",
      "1/1 [==============================] - 0s 223ms/step\n",
      "1/1 [==============================] - 0s 236ms/step\n",
      "1/1 [==============================] - 0s 236ms/step\n",
      "1/1 [==============================] - 0s 254ms/step\n",
      "1/1 [==============================] - 0s 248ms/step\n",
      "1/1 [==============================] - 0s 225ms/step\n",
      "True\n",
      "1/1 [==============================] - 0s 207ms/step\n",
      "1/1 [==============================] - 0s 199ms/step\n",
      "1/1 [==============================] - 0s 214ms/step\n",
      "1/1 [==============================] - 0s 226ms/step\n",
      "1/1 [==============================] - 0s 209ms/step\n",
      "1/1 [==============================] - 0s 218ms/step\n",
      "1/1 [==============================] - 0s 193ms/step\n",
      "1/1 [==============================] - 0s 225ms/step\n",
      "1/1 [==============================] - 0s 198ms/step\n",
      "1/1 [==============================] - 0s 218ms/step\n",
      "1/1 [==============================] - 0s 210ms/step\n",
      "1/1 [==============================] - 0s 200ms/step\n",
      "1/1 [==============================] - 0s 200ms/step\n",
      "1/1 [==============================] - 0s 224ms/step\n",
      "1/1 [==============================] - 0s 202ms/step\n",
      "1/1 [==============================] - 0s 223ms/step\n",
      "1/1 [==============================] - 0s 210ms/step\n",
      "1/1 [==============================] - 0s 216ms/step\n",
      "1/1 [==============================] - 0s 185ms/step\n",
      "1/1 [==============================] - 0s 222ms/step\n",
      "1/1 [==============================] - 0s 200ms/step\n",
      "1/1 [==============================] - 0s 200ms/step\n",
      "1/1 [==============================] - 0s 220ms/step\n",
      "1/1 [==============================] - 0s 228ms/step\n",
      "1/1 [==============================] - 0s 202ms/step\n",
      "1/1 [==============================] - 0s 192ms/step\n",
      "1/1 [==============================] - 0s 192ms/step\n",
      "1/1 [==============================] - 0s 218ms/step\n",
      "1/1 [==============================] - 0s 264ms/step\n",
      "1/1 [==============================] - 0s 228ms/step\n",
      "1/1 [==============================] - 0s 246ms/step\n",
      "1/1 [==============================] - 0s 224ms/step\n",
      "1/1 [==============================] - 0s 238ms/step\n",
      "1/1 [==============================] - 0s 195ms/step\n",
      "1/1 [==============================] - 0s 217ms/step\n",
      "1/1 [==============================] - 0s 239ms/step\n",
      "1/1 [==============================] - 0s 215ms/step\n",
      "1/1 [==============================] - 0s 206ms/step\n",
      "1/1 [==============================] - 0s 233ms/step\n",
      "1/1 [==============================] - 0s 226ms/step\n",
      "1/1 [==============================] - 0s 242ms/step\n",
      "1/1 [==============================] - 0s 257ms/step\n",
      "1/1 [==============================] - 0s 259ms/step\n",
      "1/1 [==============================] - 0s 223ms/step\n",
      "1/1 [==============================] - 0s 208ms/step\n",
      "1/1 [==============================] - 0s 222ms/step\n",
      "1/1 [==============================] - 0s 247ms/step\n",
      "1/1 [==============================] - 0s 236ms/step\n",
      "1/1 [==============================] - 0s 223ms/step\n",
      "1/1 [==============================] - 0s 241ms/step\n",
      "False\n"
     ]
    },
    {
     "ename": "TypeError",
     "evalue": "'NoneType' object is not subscriptable",
     "output_type": "error",
     "traceback": [
      "\u001b[1;31m---------------------------------------------------------------------------\u001b[0m",
      "\u001b[1;31mTypeError\u001b[0m                                 Traceback (most recent call last)",
      "Cell \u001b[1;32mIn[131], line 6\u001b[0m\n\u001b[0;32m      3\u001b[0m ret, frame\u001b[38;5;241m=\u001b[39mcap\u001b[38;5;241m.\u001b[39mread()\n\u001b[0;32m      5\u001b[0m \u001b[38;5;66;03m#cut down the frame to 250x250\u001b[39;00m\n\u001b[1;32m----> 6\u001b[0m frame\u001b[38;5;241m=\u001b[39m\u001b[43mframe\u001b[49m\u001b[43m[\u001b[49m\u001b[38;5;241;43m120\u001b[39;49m\u001b[43m:\u001b[49m\u001b[38;5;241;43m120\u001b[39;49m\u001b[38;5;241;43m+\u001b[39;49m\u001b[38;5;241;43m250\u001b[39;49m\u001b[43m,\u001b[49m\u001b[38;5;241;43m200\u001b[39;49m\u001b[43m:\u001b[49m\u001b[38;5;241;43m200\u001b[39;49m\u001b[38;5;241;43m+\u001b[39;49m\u001b[38;5;241;43m250\u001b[39;49m\u001b[43m,\u001b[49m\u001b[43m \u001b[49m\u001b[43m:\u001b[49m\u001b[43m]\u001b[49m\n\u001b[0;32m      7\u001b[0m cv2\u001b[38;5;241m.\u001b[39mimshow(\u001b[38;5;124m'\u001b[39m\u001b[38;5;124mVerification\u001b[39m\u001b[38;5;124m'\u001b[39m,frame)\n\u001b[0;32m     10\u001b[0m \u001b[38;5;66;03m#verification trigger\u001b[39;00m\n",
      "\u001b[1;31mTypeError\u001b[0m: 'NoneType' object is not subscriptable"
     ]
    }
   ],
   "source": [
    "cap =cv2.VideoCapture(0)\n",
    "while cap.isOpened():\n",
    "    ret, frame=cap.read()\n",
    "    \n",
    "    #cut down the frame to 250x250\n",
    "    frame=frame[120:120+250,200:200+250, :]\n",
    "    cv2.imshow('Verification',frame)\n",
    "    \n",
    "    \n",
    "    #verification trigger\n",
    "    if cv2.waitKey(10) & 0xFF == ord('v'):\n",
    "        #Save input image to input image folder\n",
    "        cv2.imwrite(os.path.join('application_data','input_image','input_image.jpg'),frame)\n",
    "#   Run verification\n",
    "        results,verified=verify(model,0.9,0.71)\n",
    "        print(verified)\n",
    "        \n",
    "\n",
    "\n",
    "    if cv2.waitKey(10) & 0xFF == ord('q'):\n",
    "        break;\n",
    "\n",
    "        \n",
    "cap.release()\n",
    "cv2.destroyAllWindows()"
   ]
  },
  {
   "cell_type": "code",
   "execution_count": 129,
   "id": "51bd329c",
   "metadata": {},
   "outputs": [
    {
     "data": {
      "text/plain": [
       "37"
      ]
     },
     "execution_count": 129,
     "metadata": {},
     "output_type": "execute_result"
    }
   ],
   "source": [
    "np.sum(np.squeeze(results)>0.9)"
   ]
  },
  {
   "cell_type": "code",
   "execution_count": 130,
   "id": "992a7ec5",
   "metadata": {},
   "outputs": [
    {
     "data": {
      "text/plain": [
       "0.74"
      ]
     },
     "execution_count": 130,
     "metadata": {},
     "output_type": "execute_result"
    }
   ],
   "source": [
    "37/50\n"
   ]
  },
  {
   "cell_type": "code",
   "execution_count": null,
   "id": "5ce37047",
   "metadata": {},
   "outputs": [],
   "source": [
    "tilak=31,0.62\n",
    "shreyansh=39,0.78"
   ]
  },
  {
   "cell_type": "code",
   "execution_count": 60,
   "id": "2a52c1b7",
   "metadata": {},
   "outputs": [
    {
     "name": "stdout",
     "output_type": "stream",
     "text": [
      "Model: \"SiameseNetwork\"\n",
      "__________________________________________________________________________________________________\n",
      " Layer (type)                   Output Shape         Param #     Connected to                     \n",
      "==================================================================================================\n",
      " input_img (InputLayer)         [(None, 105, 105, 3  0           []                               \n",
      "                                )]                                                                \n",
      "                                                                                                  \n",
      " validation_img (InputLayer)    [(None, 105, 105, 3  0           []                               \n",
      "                                )]                                                                \n",
      "                                                                                                  \n",
      " embedding (Functional)         (None, 4096)         38960448    ['input_img[0][0]',              \n",
      "                                                                  'validation_img[0][0]']         \n",
      "                                                                                                  \n",
      " l1_dist_1 (L1Dist)             (None, 4096)         0           ['embedding[0][0]',              \n",
      "                                                                  'embedding[1][0]']              \n",
      "                                                                                                  \n",
      " dense_2 (Dense)                (None, 1)            4097        ['l1_dist_1[0][0]']              \n",
      "                                                                                                  \n",
      "==================================================================================================\n",
      "Total params: 38,964,545\n",
      "Trainable params: 38,964,545\n",
      "Non-trainable params: 0\n",
      "__________________________________________________________________________________________________\n"
     ]
    }
   ],
   "source": [
    "model.summary()"
   ]
  },
  {
   "cell_type": "code",
   "execution_count": null,
   "id": "21d26c86",
   "metadata": {},
   "outputs": [],
   "source": []
  },
  {
   "cell_type": "code",
   "execution_count": null,
   "id": "6843f274",
   "metadata": {},
   "outputs": [],
   "source": []
  }
 ],
 "metadata": {
  "kernelspec": {
   "display_name": "tf39",
   "language": "python",
   "name": "tf"
  },
  "language_info": {
   "codemirror_mode": {
    "name": "ipython",
    "version": 3
   },
   "file_extension": ".py",
   "mimetype": "text/x-python",
   "name": "python",
   "nbconvert_exporter": "python",
   "pygments_lexer": "ipython3",
   "version": "3.9.19"
  }
 },
 "nbformat": 4,
 "nbformat_minor": 5
}
